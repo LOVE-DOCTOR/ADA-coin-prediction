{
 "cells": [
  {
   "cell_type": "code",
   "execution_count": 1,
   "id": "55f53a55",
   "metadata": {},
   "outputs": [],
   "source": [
    "from bs4 import BeautifulSoup, Comment\n",
    "import requests\n",
    "from csv import writer\n",
    "import json\n",
    "import time\n",
    "import numpy as np\n",
    "import pandas as pd\n",
    "from matplotlib import pyplot as plt\n",
    "import seaborn as sns\n",
    "from sklearn.model_selection import train_test_split\n",
    "from sklearn.linear_model import LinearRegression\n",
    "from catboost import CatBoostRegressor\n",
    "from sklearn.svm import SVR\n"
   ]
  },
  {
   "cell_type": "markdown",
   "id": "a59e638b",
   "metadata": {},
   "source": [
    "https://coinmarketcap.com/currencies/cardano/historical-data/\n",
    "\n",
    "start=20171001&end=20220212"
   ]
  },
  {
   "cell_type": "code",
   "execution_count": 21,
   "id": "8146fbca",
   "metadata": {},
   "outputs": [
    {
     "name": "stdout",
     "output_type": "stream",
     "text": [
      "                          date      Open     close      high       low  \\\n",
      "0     2017-10-01T23:59:59.999Z  0.021678  0.024969  0.032226  0.017354   \n",
      "1     2017-10-02T23:59:59.999Z  0.024607  0.025932  0.030088  0.019969   \n",
      "2     2017-10-03T23:59:59.999Z  0.025757  0.020816  0.027425  0.020690   \n",
      "3     2017-10-04T23:59:59.999Z  0.020864  0.021931  0.022806  0.020864   \n",
      "4     2017-10-05T23:59:59.999Z  0.021951  0.021489  0.022154  0.020859   \n",
      "...                        ...       ...       ...       ...       ...   \n",
      "1592  2022-02-09T23:59:59.999Z  1.177958  1.194810  1.212157  1.154750   \n",
      "1593  2022-02-10T23:59:59.999Z  1.194636  1.152478  1.218667  1.149182   \n",
      "1594  2022-02-11T23:59:59.999Z  1.152571  1.080347  1.162573  1.072568   \n",
      "1595  2022-02-12T23:59:59.999Z  1.080511  1.058199  1.091407  1.034717   \n",
      "1596  2022-02-13T23:59:59.999Z  1.058008  1.045819  1.070944  1.035629   \n",
      "\n",
      "       volume_USDT     marketCap  \n",
      "0     5.006870e+07  0.000000e+00  \n",
      "1     5.764130e+07  6.288991e+08  \n",
      "2     1.699780e+07  5.396927e+08  \n",
      "3     9.000050e+06  5.686195e+08  \n",
      "4     5.562510e+06  5.571390e+08  \n",
      "...            ...           ...  \n",
      "1592  1.239456e+09  4.013690e+10  \n",
      "1593  1.810255e+09  3.871477e+10  \n",
      "1594  1.395763e+09  3.629172e+10  \n",
      "1595  1.401191e+09  3.554758e+10  \n",
      "1596  1.066206e+09  3.515368e+10  \n",
      "\n",
      "[1597 rows x 7 columns]\n"
     ]
    }
   ],
   "source": [
    "\n",
    "\n",
    "import requests\n",
    "import json\n",
    "import pandas as pd\n",
    "api_url= 'https://api.coinmarketcap.com/data-api/v3/cryptocurrency/historical?id=2010&convertId=2781&timeStart=1502668800&timeEnd=1644796800'\n",
    "r = requests.get(api_url)\n",
    "data = []\n",
    "for item in r.json()['data']['quotes']:\n",
    "    Open = item['quote']['open']\n",
    "    close = item['quote']['close']\n",
    "    high=item['quote']['high']\n",
    "    low=item['quote']['low']\n",
    "    volume_USDT =item['quote']['volume']\n",
    "    date=item['quote']['timestamp']\n",
    "    marketCap = item['quote']['marketCap']\n",
    "    \n",
    "    \n",
    "    \n",
    "    data.append([date,Open,close,high,low,volume_USDT,marketCap])\n",
    "\n",
    "\n",
    "cols = [\"date\", \"Open\", \"close\", \"high\",\"low\", \"volume_USDT\", \"marketCap\"]\n",
    "\n",
    "df = pd.DataFrame(data, columns= cols)\n",
    "print(df)\n",
    "df.to_csv('CARDANO.csv',index = False)\n"
   ]
  },
  {
   "cell_type": "code",
   "execution_count": null,
   "id": "d4cc184f",
   "metadata": {},
   "outputs": [],
   "source": []
  }
 ],
 "metadata": {
  "kernelspec": {
   "display_name": "Python 3 (ipykernel)",
   "language": "python",
   "name": "python3"
  },
  "language_info": {
   "codemirror_mode": {
    "name": "ipython",
    "version": 3
   },
   "file_extension": ".py",
   "mimetype": "text/x-python",
   "name": "python",
   "nbconvert_exporter": "python",
   "pygments_lexer": "ipython3",
   "version": "3.8.8"
  }
 },
 "nbformat": 4,
 "nbformat_minor": 5
}
